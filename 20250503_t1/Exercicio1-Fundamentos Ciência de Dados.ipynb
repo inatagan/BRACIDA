{
 "cells": [
  {
   "cell_type": "markdown",
   "metadata": {},
   "source": [
    "# <font color='blue'>Instituto Fedral de São Paulo - Fundamentos da Ciências de Dados</font>"
   ]
  },
  {
   "cell_type": "markdown",
   "metadata": {},
   "source": [
    "### Exercícios Sobre Módulos Python Para Análise de Dados"
   ]
  },
  {
   "cell_type": "markdown",
   "metadata": {},
   "source": [
    "### ****** ATENÇÃO ******\n",
    "### Alguns dos exercícios podem requerer pesquisa adicional na documentação dos pacotes. Pesquise!"
   ]
  },
  {
   "cell_type": "markdown",
   "metadata": {},
   "source": [
    "# Meu setup local, criar um abiente de trabalho virtual python e instalar os pacoter requeridos no ambiente.\n",
    "\n",
    "# abra um terminal e use os seguintes comandos\n",
    "\n",
    "# criar um ambiente de trabalho virtual python:\n",
    "python3 -m venv venv\n",
    "\n",
    "# ativar o ambiente de trabalho virtual:\n",
    "source venv/bin/activate\n",
    "\n",
    "# instalar as dependencias do projeto\n",
    "pip install -r requirements.txt\n",
    "\n",
    "# para desativar o ambiente virtual use o comando:\n",
    "deactivate"
   ]
  },
  {
   "cell_type": "markdown",
   "metadata": {},
   "source": [
    "### Exercício 1"
   ]
  },
  {
   "cell_type": "code",
   "execution_count": null,
   "metadata": {},
   "outputs": [],
   "source": [
    "# Crie um array NumPy com o número 1000000 e uma lista com o número 1000000.\n",
    "# Multiplique cada elemento do array e da lista por 2 e calcule o tempo de \n",
    "# execução com cada um dos objetos (use %time).\n",
    "# Qual objeto oferece melhor performance, array NumPy ou lista?"
   ]
  },
  {
   "cell_type": "code",
   "execution_count": 2,
   "metadata": {},
   "outputs": [
    {
     "name": "stdout",
     "output_type": "stream",
     "text": [
      "Tempo de execução para array NumPy:\n",
      "CPU times: user 0 ns, sys: 2.49 ms, total: 2.49 ms\n",
      "Wall time: 2.35 ms\n",
      "Tempo de execução para lista:\n",
      "CPU times: user 35.4 ms, sys: 24.9 ms, total: 60.2 ms\n",
      "Wall time: 60.2 ms\n"
     ]
    }
   ],
   "source": [
    "import numpy as np\n",
    "\n",
    "# Crie um array NumPy com o número 1000000\n",
    "numpy_array = np.arange(1000000)\n",
    "\n",
    "# Crie uma lista com o número 1000000\n",
    "python_list = list(range(1000000))\n",
    "\n",
    "# Multiplique cada elemento do array por 2 e calcule o tempo de execução\n",
    "print(\"Tempo de execução para array NumPy:\")\n",
    "%time numpy_array = numpy_array * 2\n",
    "\n",
    "# Multiplique cada elemento da lista por 2 e calcule o tempo de execução\n",
    "print(\"Tempo de execução para lista:\")\n",
    "%time python_list = [x * 2 for x in python_list]\n",
    "\n",
    "# O array NumPy oferece melhor performance\n"
   ]
  },
  {
   "cell_type": "markdown",
   "metadata": {},
   "source": [
    "### Exercício 2"
   ]
  },
  {
   "cell_type": "code",
   "execution_count": null,
   "metadata": {},
   "outputs": [],
   "source": [
    "# Exercício 2\n",
    "# Crie um array numpy de 10 elementos\n",
    "# Altere o valores de todos os elementos dos índices 5 a 8 para 0"
   ]
  },
  {
   "cell_type": "code",
   "execution_count": 3,
   "metadata": {},
   "outputs": [
    {
     "name": "stdout",
     "output_type": "stream",
     "text": [
      "Array original: [0 1 2 3 4 5 6 7 8 9]\n",
      "Array atualizado: [0 1 2 3 4 0 0 0 0 9]\n"
     ]
    }
   ],
   "source": [
    "import numpy as np\n",
    "\n",
    "# Criar um array numpy de 10 elementos\n",
    "arr = np.arange(10)\n",
    "print(\"Array original:\", arr)\n",
    "\n",
    "# Alterar os valores de todos os elementos dos índices 5 a 8 para 0\n",
    "arr[5:9] = 0\n",
    "print(\"Array atualizado:\", arr)\n"
   ]
  },
  {
   "cell_type": "markdown",
   "metadata": {},
   "source": [
    "### Exercício 3"
   ]
  },
  {
   "cell_type": "code",
   "execution_count": null,
   "metadata": {},
   "outputs": [],
   "source": [
    "# Crie um array numpy de 3 dimensões e imprima a dimensão 1 "
   ]
  },
  {
   "cell_type": "code",
   "execution_count": 4,
   "metadata": {},
   "outputs": [
    {
     "name": "stdout",
     "output_type": "stream",
     "text": [
      "Array 3D:\n",
      " [[[ 1  2  3]\n",
      "  [ 4  5  6]]\n",
      "\n",
      " [[ 7  8  9]\n",
      "  [10 11 12]]]\n",
      "\n",
      "Forma do array 3D: (2, 2, 3)\n",
      "\n",
      "Dimensão 1 do array 3D:\n",
      " [[1 2 3]\n",
      " [4 5 6]]\n"
     ]
    }
   ],
   "source": [
    "# Criar um array NumPy 3D\n",
    "array_3d = np.array([[[1, 2, 3], [4, 5, 6]], [[7, 8, 9], [10, 11, 12]]])\n",
    "\n",
    "# Imprimir o array 3D\n",
    "print(\"Array 3D:\\n\", array_3d)\n",
    "\n",
    "# Imprimir a forma do array 3D\n",
    "print(\"\\nForma do array 3D:\", array_3d.shape)\n",
    "\n",
    "# Imprimir a dimensão 1 do array 3D\n",
    "print(\"\\nDimensão 1 do array 3D:\\n\", array_3d[0])"
   ]
  },
  {
   "cell_type": "markdown",
   "metadata": {},
   "source": [
    "### Exercício 4"
   ]
  },
  {
   "cell_type": "code",
   "execution_count": null,
   "metadata": {},
   "outputs": [],
   "source": [
    "# Crie um array numpy de duas dimensões (matriz).\n",
    "# Imprima os elementos da terceira linha da matriz\n",
    "# Imprima todos os elementos da primeira e segunda linhas e segunda \n",
    "# e terceira colunas"
   ]
  },
  {
   "cell_type": "code",
   "execution_count": 5,
   "metadata": {},
   "outputs": [
    {
     "name": "stdout",
     "output_type": "stream",
     "text": [
      "Terceira linha da matriz:\n",
      "[ 9 10 11 12]\n",
      "\n",
      "Elementos da primeira e segunda linhas e segunda e terceira colunas:\n",
      "[[2 3]\n",
      " [6 7]]\n"
     ]
    }
   ],
   "source": [
    "# Criar uma matriz NumPy bidimensional\n",
    "matriz = np.array([[1, 2, 3, 4],\n",
    "                   [5, 6, 7, 8],\n",
    "                   [9, 10, 11, 12]])\n",
    "\n",
    "# Imprimir os elementos da terceira linha da matriz\n",
    "print(\"Terceira linha da matriz:\")\n",
    "print(matriz[2, :])  # Imprime todos os elementos da terceira linha (índice 2)\n",
    "\n",
    "# Imprimir todos os elementos da primeira e segunda linhas e segunda e terceira colunas\n",
    "print(\"\\nElementos da primeira e segunda linhas e segunda e terceira colunas:\")\n",
    "print(matriz[0:2, 1:3])  # Imprime os elementos das linhas 0 e 1 (primeira e segunda linhas) e colunas 1 e 2 (segunda e terceira colunas)\n"
   ]
  },
  {
   "cell_type": "markdown",
   "metadata": {},
   "source": [
    "### Exercício 5"
   ]
  },
  {
   "cell_type": "code",
   "execution_count": null,
   "metadata": {},
   "outputs": [],
   "source": [
    "# Crie uma matriz de 15 números com 3 linhas 5 colunas utilizando numpy\n",
    "# Utilize o métodos arange() para criar a matriz e reshape() para dimensioná-la\n",
    "# Em seguida, calcule a matriz transposta dessa matriz."
   ]
  },
  {
   "cell_type": "code",
   "execution_count": 6,
   "metadata": {},
   "outputs": [
    {
     "name": "stdout",
     "output_type": "stream",
     "text": [
      "Matriz Original:\n",
      "[[ 0  1  2  3  4]\n",
      " [ 5  6  7  8  9]\n",
      " [10 11 12 13 14]]\n",
      "\n",
      "Matriz Transposta:\n",
      "[[ 0  5 10]\n",
      " [ 1  6 11]\n",
      " [ 2  7 12]\n",
      " [ 3  8 13]\n",
      " [ 4  9 14]]\n"
     ]
    }
   ],
   "source": [
    "# Criar uma matriz 3x5 com números de 0 a 14\n",
    "matriz_original = np.arange(15).reshape(3, 5)\n",
    "\n",
    "# Calcular a matriz transposta\n",
    "matriz_transposta = matriz_original.T\n",
    "\n",
    "# Imprimir a matriz original\n",
    "print(\"Matriz Original:\")\n",
    "print(matriz_original)\n",
    "\n",
    "# Imprimir a matriz transposta\n",
    "print(\"\\nMatriz Transposta:\")\n",
    "print(matriz_transposta)"
   ]
  },
  {
   "cell_type": "markdown",
   "metadata": {},
   "source": [
    "### Exercício 6"
   ]
  },
  {
   "cell_type": "code",
   "execution_count": null,
   "metadata": {},
   "outputs": [],
   "source": [
    "# Considere os 3 arrays abaixo\n",
    "# Retorne o valor do array xarr se o valor for True no array cond. \n",
    "# Caso contrário, retorne o valor do array yarr.\n",
    "xarr = np.array([1.1, 1.2, 1.3, 1.4, 1.5])\n",
    "yarr = np.array([2.1, 2.2, 2.3, 2.4, 2.5])\n",
    "cond = np.array([True, False, True, True, False])"
   ]
  },
  {
   "cell_type": "code",
   "execution_count": 7,
   "metadata": {},
   "outputs": [
    {
     "name": "stdout",
     "output_type": "stream",
     "text": [
      "[1.1 2.2 1.3 1.4 2.5]\n"
     ]
    }
   ],
   "source": [
    "xarr = np.array([1.1, 1.2, 1.3, 1.4, 1.5])\n",
    "yarr = np.array([2.1, 2.2, 2.3, 2.4, 2.5])\n",
    "cond = np.array([True, False, True, True, False])\n",
    "\n",
    "resultado = np.where(cond, xarr, yarr)\n",
    "print(resultado)"
   ]
  },
  {
   "cell_type": "markdown",
   "metadata": {},
   "source": [
    "### Exercício 7"
   ]
  },
  {
   "cell_type": "code",
   "execution_count": null,
   "metadata": {},
   "outputs": [],
   "source": [
    "# Crie um array A com 10 elementos e salve o array em disco com a extensão npy.\n",
    "# O arqquivo .npy é utilizado para armazenar arrays do NumPy (numpy.ndarray) \n",
    "# de forma eficiente preservando os dados e o formato do array.\n",
    "# Depois carregue o array do disco no array B."
   ]
  },
  {
   "cell_type": "code",
   "execution_count": 8,
   "metadata": {},
   "outputs": [
    {
     "name": "stdout",
     "output_type": "stream",
     "text": [
      "[0 1 2 3 4 5 6 7 8 9]\n"
     ]
    }
   ],
   "source": [
    "# Criar um array A com 10 elementos\n",
    "A = np.arange(10)\n",
    "\n",
    "# Salvar o array A em disco com a extensão .npy\n",
    "np.save('array_A.npy', A)\n",
    "\n",
    "# Carregar o array do disco no array B\n",
    "B = np.load('array_A.npy')\n",
    "\n",
    "# Imprimir o array B para verificar\n",
    "print(B)"
   ]
  },
  {
   "cell_type": "markdown",
   "metadata": {
    "collapsed": true
   },
   "source": [
    "### Exercício 8"
   ]
  },
  {
   "cell_type": "code",
   "execution_count": null,
   "metadata": {},
   "outputs": [],
   "source": [
    "# Considerando a série abaixo, imprima os valores únicos na série, ou seja,\n",
    "# aqueles que não se repetem.\n",
    "import pandas as pd\n",
    "obj = pd.Series(['c', 'a', 'd', 'a', 'a', 'b', 'b', 'c', 'c', 'a', 'b'])"
   ]
  },
  {
   "cell_type": "code",
   "execution_count": 9,
   "metadata": {},
   "outputs": [
    {
     "name": "stdout",
     "output_type": "stream",
     "text": [
      "Valores únicos na série:\n",
      "d\n"
     ]
    }
   ],
   "source": [
    "import pandas as pd\n",
    "\n",
    "obj = pd.Series(['c', 'a', 'd', 'a', 'a', 'b', 'b', 'c', 'c', 'a', 'b'])\n",
    "\n",
    "# Use value_counts() para contar a frequência de cada valor\n",
    "value_counts = obj.value_counts()\n",
    "\n",
    "# Filtre os valores que aparecem apenas uma vez\n",
    "unique_values = value_counts[value_counts == 1].index\n",
    "\n",
    "# Imprima os valores únicos\n",
    "print(\"Valores únicos na série:\")\n",
    "for value in unique_values:\n",
    "    print(value)\n"
   ]
  },
  {
   "cell_type": "markdown",
   "metadata": {
    "collapsed": true
   },
   "source": [
    "### Exercício 9"
   ]
  },
  {
   "cell_type": "code",
   "execution_count": null,
   "metadata": {},
   "outputs": [],
   "source": [
    "# O trecho de código a seguir, conecta em uma url na internet, \n",
    "# que acessa e baixa um dataset da internet.\n",
    "# Exiba os dados das colunas 'number', 'title', 'labels', 'state'\n",
    "# do dataframe conforme a seguir.\n",
    "import requests\n",
    "url = 'https://api.github.com/repos/pandas-dev/pandas/issues'\n",
    "resp = requests.get(url)\n",
    "resp"
   ]
  },
  {
   "cell_type": "code",
   "execution_count": 11,
   "metadata": {},
   "outputs": [
    {
     "name": "stdout",
     "output_type": "stream",
     "text": [
      "    number                                              title  \\\n",
      "0    61394  DOC: add `api.types.is_dtype_equal` into document   \n",
      "1    61393  Subplot title count fix + fix for issue introd...   \n",
      "2    61392  DOC: Issue with the general expressiveness of ...   \n",
      "3    61391  fix MultiIndex.difference not working with PyA...   \n",
      "4    61389  BUG: Incorrect Parsing of Timestamps in pd.to_...   \n",
      "5    61387       TYP:  `npt._ArrayLikeInt_co`  does not exist   \n",
      "6    61386  ENH: read_csv with usecols shouldn't change co...   \n",
      "7    61385                 BUG: to_sql works only for strings   \n",
      "8    61384  BLD: Try using shared memory utilities in Cyth...   \n",
      "9    61383                 ENH: Implement pandas.read_iceberg   \n",
      "10   61382  BUG: Multindex difference not working on colum...   \n",
      "11   61381  Fix alignment in Series subtraction with Multi...   \n",
      "12   61380  Update CI to include Translations from Scienti...   \n",
      "13   61378  DOC: update pandas cheat sheet with a third pa...   \n",
      "14   61372           Fix pyarrow comparison issue in array.py   \n",
      "15   61370                         ENH: Adding hint to to_sql   \n",
      "16   61368        BUG: Python 3.14 may not increment refcount   \n",
      "17   61365  BUG: Constructing series with Timedelta object...   \n",
      "18   61362  QST: best way to extend/subclass pandas.DataFrame   \n",
      "19   61359  BUG: Raise ValueError for non-string columns i...   \n",
      "20   61357  DOC: change `tuples` param for MultiIndex.from...   \n",
      "21   61353  BUG: inserting list of strings into Series aut...   \n",
      "22   61351  Add warning to `.groupby` when null keys would...   \n",
      "23   61349               TST: Testing for mixed int/str Index   \n",
      "24   61347  Request for guidance on issues for upcoming Py...   \n",
      "25   61345  Update groupby().first() documentation to clar...   \n",
      "26   61343  Fix #61072: inconsistent fullmatch results wit...   \n",
      "27   61339  ENH: Add warning when `DataFrame.groupby` drop...   \n",
      "28   61337  BUG: DataFrame.to_markdown exception when a ce...   \n",
      "29   61331                    DEPS: Clean unused dependencies   \n",
      "\n",
      "                                               labels state  \n",
      "0   [{'id': 134699, 'node_id': 'MDU6TGFiZWwxMzQ2OT...  open  \n",
      "1                                                  []  open  \n",
      "2   [{'id': 134699, 'node_id': 'MDU6TGFiZWwxMzQ2OT...  open  \n",
      "3                                                  []  open  \n",
      "4   [{'id': 76811, 'node_id': 'MDU6TGFiZWw3NjgxMQ=...  open  \n",
      "5   [{'id': 1280988427, 'node_id': 'MDU6TGFiZWwxMj...  open  \n",
      "6   [{'id': 76812, 'node_id': 'MDU6TGFiZWw3NjgxMg=...  open  \n",
      "7   [{'id': 76811, 'node_id': 'MDU6TGFiZWw3NjgxMQ=...  open  \n",
      "8   [{'id': 129350, 'node_id': 'MDU6TGFiZWwxMjkzNT...  open  \n",
      "9   [{'id': 2301354, 'node_id': 'MDU6TGFiZWwyMzAxM...  open  \n",
      "10  [{'id': 76811, 'node_id': 'MDU6TGFiZWw3NjgxMQ=...  open  \n",
      "11                                                 []  open  \n",
      "12  [{'id': 134699, 'node_id': 'MDU6TGFiZWwxMzQ2OT...  open  \n",
      "13  [{'id': 134699, 'node_id': 'MDU6TGFiZWwxMzQ2OT...  open  \n",
      "14                                                 []  open  \n",
      "15  [{'id': 76812, 'node_id': 'MDU6TGFiZWw3NjgxMg=...  open  \n",
      "16  [{'id': 76811, 'node_id': 'MDU6TGFiZWw3NjgxMQ=...  open  \n",
      "17  [{'id': 76811, 'node_id': 'MDU6TGFiZWw3NjgxMQ=...  open  \n",
      "18  [{'id': 34444536, 'node_id': 'MDU6TGFiZWwzNDQ0...  open  \n",
      "19  [{'id': 42670965, 'node_id': 'MDU6TGFiZWw0MjY3...  open  \n",
      "20  [{'id': 134699, 'node_id': 'MDU6TGFiZWwxMzQ2OT...  open  \n",
      "21  [{'id': 76811, 'node_id': 'MDU6TGFiZWw3NjgxMQ=...  open  \n",
      "22                                                 []  open  \n",
      "23  [{'id': 127685, 'node_id': 'MDU6TGFiZWwxMjc2OD...  open  \n",
      "24                                                 []  open  \n",
      "25  [{'id': 134699, 'node_id': 'MDU6TGFiZWwxMzQ2OT...  open  \n",
      "26                                                 []  open  \n",
      "27  [{'id': 76812, 'node_id': 'MDU6TGFiZWw3NjgxMg=...  open  \n",
      "28  [{'id': 76811, 'node_id': 'MDU6TGFiZWw3NjgxMQ=...  open  \n",
      "29  [{'id': 129350, 'node_id': 'MDU6TGFiZWwxMjkzNT...  open  \n"
     ]
    }
   ],
   "source": [
    "import requests\n",
    "import pandas as pd\n",
    "\n",
    "url = 'https://api.github.com/repos/pandas-dev/pandas/issues'\n",
    "resp = requests.get(url)\n",
    "\n",
    "if resp.status_code == 200:\n",
    "    issues = resp.json()\n",
    "    df = pd.DataFrame(issues)\n",
    "    print(df[['number', 'title', 'labels', 'state']])\n",
    "else:\n",
    "    print(f\"Request failed with status code: {resp.status_code}\")\n"
   ]
  },
  {
   "cell_type": "markdown",
   "metadata": {},
   "source": [
    "### Exercício 10"
   ]
  },
  {
   "cell_type": "code",
   "execution_count": null,
   "metadata": {},
   "outputs": [],
   "source": [
    "# Crie um dicionário python com 5 linguagens, de programação, \n",
    "# a quantidade de usuários dessas linguagens nos estados unidos \n",
    "# e o ano de lançamento de cada uma delas, onde, a chave serão \n",
    "# as linguagens de programação e os valores como listas python \n",
    "# desse dicionário.\n",
    "# linguagens: Python, JavaScript, Java, C#, C++\n",
    "# Ano de Lançamento: 1991, 1995, 1995, 2000, 1985\n",
    "# Qtde. Usuários: 8000000, 7500000, 5000000, 3000000, 2500000\n"
   ]
  },
  {
   "cell_type": "code",
   "execution_count": 12,
   "metadata": {},
   "outputs": [
    {
     "name": "stdout",
     "output_type": "stream",
     "text": [
      "{'Python': [8000000, 1991], 'JavaScript': [7500000, 1995], 'Java': [5000000, 1995], 'C#': [3000000, 2000], 'C++': [2500000, 1985]}\n"
     ]
    }
   ],
   "source": [
    "# Criando o dicionário com linguagens de programação\n",
    "linguagens_programacao = {\n",
    "    \"Python\": [8000000, 1991],\n",
    "    \"JavaScript\": [7500000, 1995],\n",
    "    \"Java\": [5000000, 1995],\n",
    "    \"C#\": [3000000, 2000],\n",
    "    \"C++\": [2500000, 1985]\n",
    "}\n",
    "\n",
    "# Exibindo o dicionário\n",
    "print(linguagens_programacao)\n"
   ]
  },
  {
   "cell_type": "code",
   "execution_count": null,
   "metadata": {},
   "outputs": [],
   "source": [
    "# Converta o dicionário em um dataframe"
   ]
  },
  {
   "cell_type": "code",
   "execution_count": 13,
   "metadata": {},
   "outputs": [
    {
     "name": "stdout",
     "output_type": "stream",
     "text": [
      "    Linguagem  Quantidade de Usuários  Ano de Lançamento\n",
      "0      Python                 8000000               1991\n",
      "1  JavaScript                 7500000               1995\n",
      "2        Java                 5000000               1995\n",
      "3          C#                 3000000               2000\n",
      "4         C++                 2500000               1985\n"
     ]
    }
   ],
   "source": [
    "import pandas as pd\n",
    "\n",
    "# Criando o dicionário com linguagens de programação\n",
    "linguagens_programacao = {\n",
    "    \"Python\": [8000000, 1991],\n",
    "    \"JavaScript\": [7500000, 1995],\n",
    "    \"Java\": [5000000, 1995],\n",
    "    \"C#\": [3000000, 2000],\n",
    "    \"C++\": [2500000, 1985]\n",
    "}\n",
    "\n",
    "# Convertendo o dicionário em um DataFrame\n",
    "df = pd.DataFrame.from_dict(linguagens_programacao, orient='index', columns=['Quantidade de Usuários', 'Ano de Lançamento'])\n",
    "\n",
    "# Resetando o índice para que as linguagens sejam uma coluna\n",
    "df.reset_index(inplace=True)\n",
    "df.rename(columns={'index': 'Linguagem'}, inplace=True)\n",
    "\n",
    "# Exibindo o DataFrame\n",
    "print(df)\n"
   ]
  },
  {
   "cell_type": "code",
   "execution_count": null,
   "metadata": {},
   "outputs": [],
   "source": [
    "# Converta no dataframe linhas em colunas e colunas em linhas."
   ]
  },
  {
   "cell_type": "code",
   "execution_count": 14,
   "metadata": {},
   "outputs": [
    {
     "name": "stdout",
     "output_type": "stream",
     "text": [
      "                              0           1        2        3        4\n",
      "Linguagem                Python  JavaScript     Java       C#      C++\n",
      "Quantidade de Usuários  8000000     7500000  5000000  3000000  2500000\n",
      "Ano de Lançamento          1991        1995     1995     2000     1985\n"
     ]
    }
   ],
   "source": [
    "import pandas as pd\n",
    "\n",
    "# Criando o dicionário com linguagens de programação\n",
    "linguagens_programacao = {\n",
    "    \"Python\": [8000000, 1991],\n",
    "    \"JavaScript\": [7500000, 1995],\n",
    "    \"Java\": [5000000, 1995],\n",
    "    \"C#\": [3000000, 2000],\n",
    "    \"C++\": [2500000, 1985]\n",
    "}\n",
    "\n",
    "# Convertendo o dicionário em um DataFrame\n",
    "df = pd.DataFrame.from_dict(linguagens_programacao, orient='index', columns=['Quantidade de Usuários', 'Ano de Lançamento'])\n",
    "\n",
    "# Resetando o índice para que as linguagens sejam uma coluna\n",
    "df.reset_index(inplace=True)\n",
    "df.rename(columns={'index': 'Linguagem'}, inplace=True)\n",
    "\n",
    "# Transpondo o DataFrame\n",
    "df_transposto = df.T\n",
    "\n",
    "# Exibindo o DataFrame transposto\n",
    "print(df_transposto)\n"
   ]
  },
  {
   "cell_type": "code",
   "execution_count": null,
   "metadata": {},
   "outputs": [],
   "source": [
    "# Altere os títulos das colunas para Qtde Usuarios e Ano"
   ]
  },
  {
   "cell_type": "code",
   "execution_count": 17,
   "metadata": {},
   "outputs": [
    {
     "name": "stdout",
     "output_type": "stream",
     "text": [
      "    Linguagem  Qtde Usuarios   Ano\n",
      "0      Python        8000000  1991\n",
      "1  JavaScript        7500000  1995\n",
      "2        Java        5000000  1995\n",
      "3          C#        3000000  2000\n",
      "4         C++        2500000  1985\n"
     ]
    }
   ],
   "source": [
    "import pandas as pd\n",
    "\n",
    "# Criando o dicionário com linguagens de programação\n",
    "linguagens_programacao = {\n",
    "    \"Python\": [8000000, 1991],\n",
    "    \"JavaScript\": [7500000, 1995],\n",
    "    \"Java\": [5000000, 1995],\n",
    "    \"C#\": [3000000, 2000],\n",
    "    \"C++\": [2500000, 1985]\n",
    "}\n",
    "\n",
    "# Convertendo o dicionário em um DataFrame\n",
    "df = pd.DataFrame.from_dict(linguagens_programacao, orient='index', columns=['Quantidade de Usuários', 'Ano de Lançamento'])\n",
    "\n",
    "# Resetando o índice para que as linguagens sejam uma coluna\n",
    "df.reset_index(inplace=True)\n",
    "df.rename(columns={'index': 'Linguagem'}, inplace=True)\n",
    "\n",
    "# Alterando os títulos das colunas\n",
    "df.columns = ['Linguagem', 'Qtde Usuarios', 'Ano']\n",
    "\n",
    "# Exibindo o DataFrame com os novos títulos\n",
    "print(df)\n"
   ]
  },
  {
   "cell_type": "code",
   "execution_count": null,
   "metadata": {},
   "outputs": [],
   "source": [
    "# Exiba o tipo de dado de cada coluna. "
   ]
  },
  {
   "cell_type": "code",
   "execution_count": 18,
   "metadata": {},
   "outputs": [
    {
     "name": "stdout",
     "output_type": "stream",
     "text": [
      "Linguagem        object\n",
      "Qtde Usuarios     int64\n",
      "Ano               int64\n",
      "dtype: object\n"
     ]
    }
   ],
   "source": [
    "import pandas as pd\n",
    "\n",
    "# Criando o dicionário com linguagens de programação\n",
    "linguagens_programacao = {\n",
    "    \"Python\": [8000000, 1991],\n",
    "    \"JavaScript\": [7500000, 1995],\n",
    "    \"Java\": [5000000, 1995],\n",
    "    \"C#\": [3000000, 2000],\n",
    "    \"C++\": [2500000, 1985]\n",
    "}\n",
    "\n",
    "# Convertendo o dicionário em um DataFrame\n",
    "df = pd.DataFrame.from_dict(linguagens_programacao, orient='index', columns=['Quantidade de Usuários', 'Ano de Lançamento'])\n",
    "\n",
    "# Resetando o índice para que as linguagens sejam uma coluna\n",
    "df.reset_index(inplace=True)\n",
    "df.rename(columns={'index': 'Linguagem'}, inplace=True)\n",
    "\n",
    "# Alterando os títulos das colunas\n",
    "df.columns = ['Linguagem', 'Qtde Usuarios', 'Ano']\n",
    "\n",
    "# Exibindo o tipo de dado de cada coluna\n",
    "tipos_dados = df.dtypes\n",
    "print(tipos_dados)\n"
   ]
  },
  {
   "cell_type": "code",
   "execution_count": null,
   "metadata": {},
   "outputs": [],
   "source": [
    "# Visualize as 5 primeiras linhas do dataframe"
   ]
  },
  {
   "cell_type": "code",
   "execution_count": 19,
   "metadata": {},
   "outputs": [
    {
     "name": "stdout",
     "output_type": "stream",
     "text": [
      "    Linguagem  Qtde Usuarios   Ano\n",
      "0      Python        8000000  1991\n",
      "1  JavaScript        7500000  1995\n",
      "2        Java        5000000  1995\n",
      "3          C#        3000000  2000\n",
      "4         C++        2500000  1985\n"
     ]
    }
   ],
   "source": [
    "import pandas as pd\n",
    "\n",
    "# Criando o dicionário com linguagens de programação\n",
    "linguagens_programacao = {\n",
    "    \"Python\": [8000000, 1991],\n",
    "    \"JavaScript\": [7500000, 1995],\n",
    "    \"Java\": [5000000, 1995],\n",
    "    \"C#\": [3000000, 2000],\n",
    "    \"C++\": [2500000, 1985]\n",
    "}\n",
    "\n",
    "# Convertendo o dicionário em um DataFrame\n",
    "df = pd.DataFrame.from_dict(linguagens_programacao, orient='index', columns=['Quantidade de Usuários', 'Ano de Lançamento'])\n",
    "\n",
    "# Resetando o índice para que as linguagens sejam uma coluna\n",
    "df.reset_index(inplace=True)\n",
    "df.rename(columns={'index': 'Linguagem'}, inplace=True)\n",
    "\n",
    "# Alterando os títulos das colunas\n",
    "df.columns = ['Linguagem', 'Qtde Usuarios', 'Ano']\n",
    "\n",
    "# Visualizando as 5 primeiras linhas do DataFrame\n",
    "print(df.head())\n"
   ]
  },
  {
   "cell_type": "markdown",
   "metadata": {},
   "source": [
    "### Exercício 11"
   ]
  },
  {
   "cell_type": "code",
   "execution_count": null,
   "metadata": {},
   "outputs": [],
   "source": [
    "# Usando o método read_csv do pandas e carregue o arquivo salarios.csv\n",
    "# Este método exige-se que se coloque o separador vírgula ',' \n",
    "# no parâmetro sep.\n"
   ]
  },
  {
   "cell_type": "code",
   "execution_count": 20,
   "metadata": {},
   "outputs": [
    {
     "name": "stdout",
     "output_type": "stream",
     "text": [
      "                  Name            Position Title        Department  \\\n",
      "0      AARON,  ELVIA J          WATER RATE TAKER       WATER MGMNT   \n",
      "1    AARON,  JEFFERY M            POLICE OFFICER            POLICE   \n",
      "2       AARON,  KARINA            POLICE OFFICER            POLICE   \n",
      "3  AARON,  KIMBERLEI R  CHIEF CONTRACT EXPEDITER  GENERAL SERVICES   \n",
      "4  ABAD JR,  VICENTE M         CIVIL ENGINEER IV       WATER MGMNT   \n",
      "\n",
      "  Employee Annual Salary  \n",
      "0              $88968.00  \n",
      "1              $80778.00  \n",
      "2              $80778.00  \n",
      "3              $84780.00  \n",
      "4             $104736.00  \n"
     ]
    }
   ],
   "source": [
    "import pandas as pd\n",
    "\n",
    "# Carregando o arquivo salarios.csv\n",
    "df_salarios = pd.read_csv('salarios.csv', sep=',')\n",
    "\n",
    "# Exibindo as 5 primeiras linhas do DataFrame\n",
    "print(df_salarios.head())\n"
   ]
  },
  {
   "cell_type": "code",
   "execution_count": null,
   "metadata": {},
   "outputs": [],
   "source": [
    "# Verifique se as colunas do dataframe possuem valores ausentes.\n"
   ]
  },
  {
   "cell_type": "code",
   "execution_count": 21,
   "metadata": {},
   "outputs": [
    {
     "name": "stdout",
     "output_type": "stream",
     "text": [
      "Name                      1\n",
      "Position Title            1\n",
      "Department                1\n",
      "Employee Annual Salary    1\n",
      "dtype: int64\n"
     ]
    }
   ],
   "source": [
    "import pandas as pd\n",
    "\n",
    "# Carregando o arquivo salarios.csv\n",
    "df_salarios = pd.read_csv('salarios.csv', sep=',')\n",
    "\n",
    "# Verificando se as colunas possuem valores ausentes\n",
    "valores_ausentes = df_salarios.isnull().sum()\n",
    "\n",
    "# Exibindo a contagem de valores ausentes por coluna\n",
    "print(valores_ausentes)\n"
   ]
  },
  {
   "cell_type": "code",
   "execution_count": null,
   "metadata": {},
   "outputs": [],
   "source": [
    "# Remova do datafrane a linha cujo índice é o número 32181\n"
   ]
  },
  {
   "cell_type": "code",
   "execution_count": 22,
   "metadata": {},
   "outputs": [
    {
     "name": "stdout",
     "output_type": "stream",
     "text": [
      "                  Name            Position Title        Department  \\\n",
      "0      AARON,  ELVIA J          WATER RATE TAKER       WATER MGMNT   \n",
      "1    AARON,  JEFFERY M            POLICE OFFICER            POLICE   \n",
      "2       AARON,  KARINA            POLICE OFFICER            POLICE   \n",
      "3  AARON,  KIMBERLEI R  CHIEF CONTRACT EXPEDITER  GENERAL SERVICES   \n",
      "4  ABAD JR,  VICENTE M         CIVIL ENGINEER IV       WATER MGMNT   \n",
      "\n",
      "  Employee Annual Salary  \n",
      "0              $88968.00  \n",
      "1              $80778.00  \n",
      "2              $80778.00  \n",
      "3              $84780.00  \n",
      "4             $104736.00  \n"
     ]
    }
   ],
   "source": [
    "import pandas as pd\n",
    "\n",
    "# Carregando o arquivo salarios.csv\n",
    "df_salarios = pd.read_csv('salarios.csv', sep=',')\n",
    "\n",
    "# Removendo a linha cujo índice é 32181\n",
    "df_salarios = df_salarios.drop(index=32181)\n",
    "\n",
    "# Exibindo as 5 primeiras linhas do DataFrame após a remoção\n",
    "print(df_salarios.head())\n"
   ]
  },
  {
   "cell_type": "code",
   "execution_count": null,
   "metadata": {},
   "outputs": [],
   "source": [
    "# Exiba os tipos de dados de cada coluna do dataframe\n"
   ]
  },
  {
   "cell_type": "code",
   "execution_count": 23,
   "metadata": {},
   "outputs": [
    {
     "name": "stdout",
     "output_type": "stream",
     "text": [
      "Name                      object\n",
      "Position Title            object\n",
      "Department                object\n",
      "Employee Annual Salary    object\n",
      "dtype: object\n"
     ]
    }
   ],
   "source": [
    "import pandas as pd\n",
    "\n",
    "# Carregando o arquivo salarios.csv\n",
    "df_salarios = pd.read_csv('salarios.csv', sep=',')\n",
    "\n",
    "# Exibindo os tipos de dados de cada coluna\n",
    "tipos_dados = df_salarios.dtypes\n",
    "print(tipos_dados)\n"
   ]
  },
  {
   "cell_type": "code",
   "execution_count": null,
   "metadata": {},
   "outputs": [],
   "source": [
    "# Remova o caractere $ dos valores da coluna Employee Annual Salary e\n",
    "# Converta a coluna Employee Annual Salary para tipo float.\n"
   ]
  },
  {
   "cell_type": "code",
   "execution_count": 24,
   "metadata": {},
   "outputs": [
    {
     "name": "stdout",
     "output_type": "stream",
     "text": [
      "Name                       object\n",
      "Position Title             object\n",
      "Department                 object\n",
      "Employee Annual Salary    float64\n",
      "dtype: object\n",
      "                  Name            Position Title        Department  \\\n",
      "0      AARON,  ELVIA J          WATER RATE TAKER       WATER MGMNT   \n",
      "1    AARON,  JEFFERY M            POLICE OFFICER            POLICE   \n",
      "2       AARON,  KARINA            POLICE OFFICER            POLICE   \n",
      "3  AARON,  KIMBERLEI R  CHIEF CONTRACT EXPEDITER  GENERAL SERVICES   \n",
      "4  ABAD JR,  VICENTE M         CIVIL ENGINEER IV       WATER MGMNT   \n",
      "\n",
      "   Employee Annual Salary  \n",
      "0                 88968.0  \n",
      "1                 80778.0  \n",
      "2                 80778.0  \n",
      "3                 84780.0  \n",
      "4                104736.0  \n"
     ]
    }
   ],
   "source": [
    "import pandas as pd\n",
    "\n",
    "# Carregando o arquivo salarios.csv\n",
    "df_salarios = pd.read_csv('salarios.csv', sep=',')\n",
    "\n",
    "# Removendo o caractere $ e convertendo para float\n",
    "df_salarios['Employee Annual Salary'] = df_salarios['Employee Annual Salary'].str.replace('$', '', regex=False).astype(float)\n",
    "\n",
    "# Exibindo os tipos de dados de cada coluna após a conversão\n",
    "tipos_dados = df_salarios.dtypes\n",
    "print(tipos_dados)\n",
    "\n",
    "# Exibindo as 5 primeiras linhas do DataFrame para verificar a alteração\n",
    "print(df_salarios.head())\n"
   ]
  },
  {
   "cell_type": "code",
   "execution_count": null,
   "metadata": {},
   "outputs": [],
   "source": [
    "# Faça a somatória da coluna Employee Annual Salary\n"
   ]
  },
  {
   "cell_type": "code",
   "execution_count": 25,
   "metadata": {},
   "outputs": [
    {
     "name": "stdout",
     "output_type": "stream",
     "text": [
      "A somatória da coluna Employee Annual Salary é: 2547690152.24\n"
     ]
    }
   ],
   "source": [
    "import pandas as pd\n",
    "\n",
    "# Carregando o arquivo salarios.csv\n",
    "df_salarios = pd.read_csv('salarios.csv', sep=',')\n",
    "\n",
    "# Removendo o caractere $ e convertendo para float\n",
    "df_salarios['Employee Annual Salary'] = df_salarios['Employee Annual Salary'].str.replace('$', '', regex=False).astype(float)\n",
    "\n",
    "# Calculando a somatória da coluna Employee Annual Salary\n",
    "soma_salarios = df_salarios['Employee Annual Salary'].sum()\n",
    "\n",
    "# Exibindo o resultado da somatória\n",
    "print(f'A somatória da coluna Employee Annual Salary é: {soma_salarios}')\n"
   ]
  },
  {
   "cell_type": "markdown",
   "metadata": {},
   "source": [
    "# Fim"
   ]
  }
 ],
 "metadata": {
  "kernelspec": {
   "display_name": "venv",
   "language": "python",
   "name": "python3"
  },
  "language_info": {
   "codemirror_mode": {
    "name": "ipython",
    "version": 3
   },
   "file_extension": ".py",
   "mimetype": "text/x-python",
   "name": "python",
   "nbconvert_exporter": "python",
   "pygments_lexer": "ipython3",
   "version": "3.12.10"
  }
 },
 "nbformat": 4,
 "nbformat_minor": 1
}
